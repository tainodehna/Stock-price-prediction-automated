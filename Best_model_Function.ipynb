{
 "cells": [
  {
   "cell_type": "markdown",
   "id": "062c604a",
   "metadata": {},
   "source": [
    "# Finding the best model"
   ]
  },
  {
   "cell_type": "code",
   "execution_count": null,
   "id": "18e428bf",
   "metadata": {},
   "outputs": [],
   "source": [
    "def best_model(name,number_days_predict):\n",
    "    Future_Price_ARIMA, mape_ARIMA, y_pred_ARIMA = model_ARIMA(name, number_days_predict)\n",
    "    Future_Price_SARIMA, mape_SARIMA, y_pred_SARIMA = model_SARIMA(name, number_days_predict)\n",
    "    #Future_Price_GARCH, mape_GARCH, y_pred_GARCH = model_GARCH('ACB', 7)\n",
    "    Future_Price_ETS, mape_ETS, y_pred_ETS = model_ETS(name, number_days_predict)\n",
    "    Future_Price_TBATS, mape_TBATS, y_pred_TBATS = model_TBATS(name, number_days_predict)\n",
    "    Future_Price_Prophet, mape_Prophet, y_pred_Prophet = model_Prophet(name, number_days_predict)\n",
    "    Future_Price_LSTM, mape_LSTM, y_pred_LSTM = model_LSTM(name, number_days_predict)\n",
    "    weights, mape_ensemable = model_ensemble(name, 7, y_pred_ARIMA, y_pred_SARIMA,\n",
    "                                    y_pred_ETS, y_pred_TBATS,\n",
    "                                    y_pred_Prophet, y_pred_LSTM)\n",
    "    Future_Price_ensemable = (\n",
    "                                weights[0] * Future_Price_ARIMA + \n",
    "                                weights[1] * Future_Price_SARIMA + \n",
    "                                weights[2] * Future_Price_ETS + \n",
    "                                weights[3] * Future_Price_TBATS + \n",
    "                                weights[4] * Future_Price_Prophet + \n",
    "                                weights[5] * Future_Price_LSTM\n",
    "                            )\n",
    "\n",
    "    mape = np.array([mape_ARIMA,\n",
    "                   mape_SARIMA,\n",
    "                   mape_ETS,\n",
    "                   mape_TBATS,\n",
    "                   mape_Prophet,\n",
    "                   mape_LSTM,\n",
    "                    mape_ensemable])\n",
    "    \n",
    "    Future_Price = np.array([Future_Price_ARIMA,\n",
    "                   Future_Price_SARIMA,\n",
    "                   Future_Price_ETS,\n",
    "                   Future_Price_TBATS,\n",
    "                   Future_Price_Prophet,\n",
    "                   Future_Price_LSTM,\n",
    "                    Future_Price_ensemable])\n",
    "    \n",
    "    # Find index of minimum MAPE and return corresponding prediction\n",
    "    best_index = np.argmin(mape)\n",
    "    return mape[best_index], Future_Price[best_index]"
   ]
  },
  {
   "cell_type": "markdown",
   "id": "b15768c8",
   "metadata": {},
   "source": [
    "# Create Database"
   ]
  },
  {
   "cell_type": "code",
   "execution_count": null,
   "id": "49d3ab25",
   "metadata": {},
   "outputs": [],
   "source": [
    "def predict_stocks_database(stock_symbols, number_days_predict, all_stock_data):\n",
    "    mape = []\n",
    "    Future_Price = []\n",
    "    Profit = []\n",
    "\n",
    "    for name in stock_symbols:\n",
    "        # Lọc dữ liệu theo mã cổ phiếu\n",
    "        data = all_stock_data[all_stock_data['ticker'] == name]\n",
    "        \n",
    "        # Gọi hàm best_model\n",
    "        mape_name, Future_Price_name = best_model(name, number_days_predict)\n",
    "        \n",
    "        # Tính lợi nhuận dự đoán\n",
    "        last_close_price = data['close'].iloc[-1]  # Lấy giá đóng cửa cuối cùng\n",
    "        profit = Future_Price_name / last_close_price - 1\n",
    "\n",
    "        # Lưu kết quả\n",
    "        mape.append(mape_name)\n",
    "        Future_Price.append(Future_Price_name)\n",
    "        Profit.append(profit)\n",
    "\n",
    "    # Tạo DataFrame kết quả\n",
    "    df = pd.DataFrame({\n",
    "        'Stock': stock_symbols[:len(mape)],  # Chỉ lấy số lượng phù hợp\n",
    "        'mape': mape,\n",
    "        'Future_Price': Future_Price,\n",
    "        'Profit': Profit\n",
    "    })\n",
    "\n",
    "    return df\n"
   ]
  },
  {
   "cell_type": "markdown",
   "id": "0a13d9b5",
   "metadata": {},
   "source": [
    "# Testing"
   ]
  },
  {
   "cell_type": "code",
   "execution_count": null,
   "id": "71123a39",
   "metadata": {},
   "outputs": [],
   "source": [
    "import numpy as np # linear algebra\n",
    "import pandas as pd # data processing, CSV file I/O (e.g. pd.read_csv)\n",
    "\n",
    "from sklearn.metrics import mean_absolute_percentage_error, mean_squared_error, r2_score\n",
    "from sklearn.model_selection import TimeSeriesSplit\n"
   ]
  },
  {
   "cell_type": "code",
   "execution_count": null,
   "id": "4664762e",
   "metadata": {},
   "outputs": [],
   "source": [
    "# Lấy data để phục vụ test model \n",
    "%run Collect_Data_Function.ipynb\n",
    "# Lấy danh sách các mã cổ phiếu trên VN30\n",
    "stock_symbols = [\"PHR\",\"MBB\"]  # Cột chứa mã cổ phiếu\n",
    "all_stock_data = data_collect(stock_symbols)\n",
    "all_stock_data.head()"
   ]
  },
  {
   "cell_type": "code",
   "execution_count": null,
   "id": "db37e401",
   "metadata": {},
   "outputs": [],
   "source": [
    "df = predict_stocks_database(stock_symbols, 5, all_stock_data)\n",
    "print(df)"
   ]
  }
 ],
 "metadata": {
  "kernelspec": {
   "display_name": "Python 3 (ipykernel)",
   "language": "python",
   "name": "python3"
  },
  "language_info": {
   "codemirror_mode": {
    "name": "ipython",
    "version": 3
   },
   "file_extension": ".py",
   "mimetype": "text/x-python",
   "name": "python",
   "nbconvert_exporter": "python",
   "pygments_lexer": "ipython3",
   "version": "3.10.9"
  }
 },
 "nbformat": 4,
 "nbformat_minor": 5
}
