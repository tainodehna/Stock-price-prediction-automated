{
 "cells": [
  {
   "cell_type": "code",
   "execution_count": 1,
   "id": "4c2d25cb",
   "metadata": {},
   "outputs": [
    {
     "name": "stdout",
     "output_type": "stream",
     "text": [
      "Requirement already satisfied: vnstock in c:\\users\\lenovo\\anaconda3\\lib\\site-packages (0.2.9.2.3)\n",
      "Note: you may need to restart the kernel to use updated packages.\n"
     ]
    },
    {
     "name": "stderr",
     "output_type": "stream",
     "text": [
      "\n",
      "[notice] A new release of pip is available: 24.0 -> 24.3.1\n",
      "[notice] To update, run: python.exe -m pip install --upgrade pip\n"
     ]
    }
   ],
   "source": [
    "pip install vnstock"
   ]
  },
  {
   "cell_type": "code",
   "execution_count": 2,
   "id": "72c86395",
   "metadata": {},
   "outputs": [
    {
     "data": {
      "text/markdown": [
       "**Vui lòng chuyển đổi sang Vnstock3** thế hệ mới (3.1.0) với câu lệnh: `pip install vnstock3 --upgrade`.\n",
       "**Từ 1/1/2025, vnstock3 sẽ được cài đặt khi sử dụng cú pháp** `pip install vnstock` **thay cho Vnstock Legacy** hiện tại.\n",
       "Xem chi tiết [chuyển đổi sang vnstock3](https://vnstocks.com/docs/tai-lieu/migration-chuyen-doi-sang-vnstock3).\n",
       "Phiên bản **Vnstock Legacy (0.2.9.2.3)** bạn đang sử dụng **sẽ không được nâng cấp thêm.**\n",
       "Từ 7/10/2024 Vnstock giới thiệu nhóm Facebook Cộng đồng Vnstock, tham gia thảo luận tại đây: https://www.facebook.com/groups/vnstock.official"
      ],
      "text/plain": [
       "<IPython.core.display.Markdown object>"
      ]
     },
     "metadata": {},
     "output_type": "display_data"
    }
   ],
   "source": [
    "from vnstock import stock_historical_data\n",
    "import pandas as pd\n",
    "import time"
   ]
  },
  {
   "cell_type": "code",
   "execution_count": 12,
   "id": "363f0087",
   "metadata": {},
   "outputs": [],
   "source": [
    "def data_collect(stock_symbols, existing_data=None):\n",
    "    # Tạo DataFrame để lưu dữ liệu\n",
    "    all_stock_data = pd.DataFrame()\n",
    "    # Vòng lặp lấy dữ liệu cho từng mã\n",
    "    for symbol in stock_symbols:\n",
    "        try:\n",
    "            stock_data = stock_historical_data(symbol, '2022-01-01', '2024-12-31')\n",
    "            stock_data['ticker'] = symbol  # Thêm cột mã cổ phiếu\n",
    "            all_stock_data = pd.concat([all_stock_data, stock_data], ignore_index=True)\n",
    "\n",
    "            # Tạm dừng để tránh quá tải server\n",
    "            time.sleep(1)\n",
    "        except Exception as e:\n",
    "            print(f\"Lỗi khi lấy dữ liệu cho mã {symbol}: {e}\")\n",
    "\n",
    "    return all_stock_data\n"
   ]
  },
  {
   "cell_type": "code",
   "execution_count": 13,
   "id": "a372f782",
   "metadata": {},
   "outputs": [
    {
     "name": "stdout",
     "output_type": "stream",
     "text": [
      "Lấy dữ liệu cho mã: ABC\n",
      "Lấy dữ liệu cho mã: MBB\n"
     ]
    },
    {
     "data": {
      "text/html": [
       "<div>\n",
       "<style scoped>\n",
       "    .dataframe tbody tr th:only-of-type {\n",
       "        vertical-align: middle;\n",
       "    }\n",
       "\n",
       "    .dataframe tbody tr th {\n",
       "        vertical-align: top;\n",
       "    }\n",
       "\n",
       "    .dataframe thead th {\n",
       "        text-align: right;\n",
       "    }\n",
       "</style>\n",
       "<table border=\"1\" class=\"dataframe\">\n",
       "  <thead>\n",
       "    <tr style=\"text-align: right;\">\n",
       "      <th></th>\n",
       "      <th>time</th>\n",
       "      <th>open</th>\n",
       "      <th>high</th>\n",
       "      <th>low</th>\n",
       "      <th>close</th>\n",
       "      <th>volume</th>\n",
       "      <th>ticker</th>\n",
       "    </tr>\n",
       "  </thead>\n",
       "  <tbody>\n",
       "    <tr>\n",
       "      <th>0</th>\n",
       "      <td>2022-01-04</td>\n",
       "      <td>11770</td>\n",
       "      <td>12290</td>\n",
       "      <td>11600</td>\n",
       "      <td>11940</td>\n",
       "      <td>60400</td>\n",
       "      <td>ABC</td>\n",
       "    </tr>\n",
       "    <tr>\n",
       "      <th>1</th>\n",
       "      <td>2022-01-05</td>\n",
       "      <td>11770</td>\n",
       "      <td>12030</td>\n",
       "      <td>11690</td>\n",
       "      <td>11860</td>\n",
       "      <td>65000</td>\n",
       "      <td>ABC</td>\n",
       "    </tr>\n",
       "    <tr>\n",
       "      <th>2</th>\n",
       "      <td>2022-01-06</td>\n",
       "      <td>11860</td>\n",
       "      <td>11940</td>\n",
       "      <td>11330</td>\n",
       "      <td>11770</td>\n",
       "      <td>198100</td>\n",
       "      <td>ABC</td>\n",
       "    </tr>\n",
       "    <tr>\n",
       "      <th>3</th>\n",
       "      <td>2022-01-07</td>\n",
       "      <td>11500</td>\n",
       "      <td>11860</td>\n",
       "      <td>11500</td>\n",
       "      <td>11770</td>\n",
       "      <td>48300</td>\n",
       "      <td>ABC</td>\n",
       "    </tr>\n",
       "    <tr>\n",
       "      <th>4</th>\n",
       "      <td>2022-01-10</td>\n",
       "      <td>11070</td>\n",
       "      <td>11770</td>\n",
       "      <td>11070</td>\n",
       "      <td>11500</td>\n",
       "      <td>72700</td>\n",
       "      <td>ABC</td>\n",
       "    </tr>\n",
       "  </tbody>\n",
       "</table>\n",
       "</div>"
      ],
      "text/plain": [
       "         time   open   high    low  close  volume ticker\n",
       "0  2022-01-04  11770  12290  11600  11940   60400    ABC\n",
       "1  2022-01-05  11770  12030  11690  11860   65000    ABC\n",
       "2  2022-01-06  11860  11940  11330  11770  198100    ABC\n",
       "3  2022-01-07  11500  11860  11500  11770   48300    ABC\n",
       "4  2022-01-10  11070  11770  11070  11500   72700    ABC"
      ]
     },
     "execution_count": 13,
     "metadata": {},
     "output_type": "execute_result"
    }
   ],
   "source": [
    "#Testing\n",
    "all_stock_data = data_collect(['ABC','MBB'])\n",
    "all_stock_data.head()"
   ]
  },
  {
   "cell_type": "code",
   "execution_count": null,
   "id": "67058c69",
   "metadata": {},
   "outputs": [],
   "source": []
  }
 ],
 "metadata": {
  "kernelspec": {
   "display_name": "Python 3 (ipykernel)",
   "language": "python",
   "name": "python3"
  },
  "language_info": {
   "codemirror_mode": {
    "name": "ipython",
    "version": 3
   },
   "file_extension": ".py",
   "mimetype": "text/x-python",
   "name": "python",
   "nbconvert_exporter": "python",
   "pygments_lexer": "ipython3",
   "version": "3.10.9"
  }
 },
 "nbformat": 4,
 "nbformat_minor": 5
}
