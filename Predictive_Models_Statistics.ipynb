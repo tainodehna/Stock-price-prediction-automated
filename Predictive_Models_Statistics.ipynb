{
 "cells": [
  {
   "cell_type": "code",
   "execution_count": null,
   "id": "923cde8e",
   "metadata": {},
   "outputs": [],
   "source": [
    "import numpy as np # linear algebra\n",
    "import pandas as pd # data processing, CSV file I/O (e.g. pd.read_csv)\n",
    "\n",
    "from sklearn.metrics import mean_absolute_percentage_error, mean_squared_error, r2_score\n",
    "from sklearn.model_selection import TimeSeriesSplit\n"
   ]
  },
  {
   "cell_type": "code",
   "execution_count": null,
   "id": "1123d6b1",
   "metadata": {},
   "outputs": [],
   "source": [
    "# Lấy data để phục vụ test model \n",
    "%run Collect_Data_Function.ipynb\n",
    "# Lấy danh sách các mã cổ phiếu trên VN30\n",
    "stock_symbols = [\"PHR\",\"MBB\"]  # Cột chứa mã cổ phiếu\n",
    "all_stock_data = data_collect(stock_symbols)\n",
    "all_stock_data.head()"
   ]
  },
  {
   "cell_type": "markdown",
   "id": "f914e995",
   "metadata": {},
   "source": [
    "# 1. ARIMA (AutoRegressive Integrated Moving Average)"
   ]
  },
  {
   "cell_type": "code",
   "execution_count": null,
   "id": "ae778027",
   "metadata": {},
   "outputs": [],
   "source": [
    "!pip install pmdarima\n",
    "!pip install statsmodels"
   ]
  },
  {
   "cell_type": "code",
   "execution_count": null,
   "id": "0a5f45de",
   "metadata": {},
   "outputs": [],
   "source": [
    "from pmdarima import auto_arima\n",
    "import pmdarima as pm\n",
    "from pmdarima.arima.utils import ndiffs\n",
    "from statsmodels.tsa.arima.model import ARIMA\n",
    "from statsmodels.tsa.statespace.sarimax import SARIMAX"
   ]
  },
  {
   "cell_type": "code",
   "execution_count": null,
   "id": "40f09430",
   "metadata": {},
   "outputs": [],
   "source": [
    "def model_ARIMA(name, number_days_predict):\n",
    "    #Tìm model ARIMA tốt nhất\n",
    "    model_ARIMA = pm.auto_arima(train_data(name), test = 'adf', \n",
    "                          start_p = 1, start_q = 1,     \n",
    "                          max_p = 3, max_q = 3,\n",
    "                          d = None, seasonal = False,   \n",
    "                          start_P = 0, m = 3,\n",
    "                          trace = True, error_action = 'ignore',  \n",
    "                          suppress_warnings = True, stepwise = True,\n",
    "                          D = 1, information_criterion = 'aic')\n",
    "    #Lưu chỉ số tốt nhất\n",
    "    best_order = model_ARIMA.order \n",
    "    \n",
    "    #Tính độ chính xác\n",
    "    y_pred_ARIMA = []\n",
    "    history = [x for x in train_data(name)]\n",
    "    y = pd.Series(test_data(name))\n",
    "\n",
    "    ARIMA_model = ARIMA(history, order = best_order)\n",
    "    ARIMA_fit = ARIMA_model.fit()\n",
    "\n",
    "    for obs in y:\n",
    "        # Forecast the next value\n",
    "        yhat = ARIMA_fit.forecast()[0]\n",
    "        # Append the prediction to the list\n",
    "        y_pred_ARIMA.append(yhat)\n",
    "        # Append the observed value to the history for the next iteration\n",
    "        history.append(obs)\n",
    "        # Update the model with the new history\n",
    "        ARIMA_model = ARIMA(history, order = best_order)\n",
    "        ARIMA_fit = ARIMA_model.fit()\n",
    "\n",
    "\n",
    "    mape_ARIMA = mean_absolute_percentage_error(y, y_pred_ARIMA)\n",
    "    \n",
    "    #Dự báo trong n ngày tới\n",
    "    history = pd.concat([train_data(name), test_data(name)], axis=0)\n",
    "\n",
    "    ARIMA_model = ARIMA(history, order = best_order)\n",
    "    ARIMA_fit = ARIMA_model.fit()\n",
    "\n",
    "    Future_Price = ARIMA_fit.forecast(steps = number_days_predict)  # Dự báo n bước tiếp theo\n",
    "    \n",
    "    lenth = len(history) + number_days_predict - 1\n",
    "\n",
    "    return Future_Price[lenth], mape_ARIMA, y_pred_ARIMA\n"
   ]
  },
  {
   "cell_type": "code",
   "execution_count": null,
   "id": "39152177",
   "metadata": {},
   "outputs": [],
   "source": [
    "# #EXAMPLE\n",
    "# y_pred_ARIMA = []\n",
    "# Future_Price, mape_ARIMA, y_pred_ARIMA = model_ARIMA('ACB',7)\n",
    "# print(Future_Price)\n",
    "# print(mape_ARIMA)\n",
    "# print(y_pred_ARIMA)"
   ]
  },
  {
   "cell_type": "markdown",
   "id": "e3324d3c",
   "metadata": {},
   "source": [
    "# 2. SARIMA, SARIMAX"
   ]
  },
  {
   "cell_type": "code",
   "execution_count": null,
   "id": "63e3fa31",
   "metadata": {},
   "outputs": [],
   "source": [
    "def model_SARIMA(name, number_days_predict):\n",
    "    #Tìm model SARIMA tốt nhất\n",
    "    model_SARIMA = pm.auto_arima(train_data(name), test = 'adf', \n",
    "                              start_p = 1, start_q = 1,     \n",
    "                              max_p = 3, max_q = 3,\n",
    "                              d = None, seasonal = True,   \n",
    "                              start_P = 0, m = 3,\n",
    "                              trace = True, error_action = 'ignore',  \n",
    "                              suppress_warnings = True, stepwise = True,\n",
    "                              D = 1, information_criterion = 'aic')\n",
    "    \n",
    "    best_order = model_SARIMA.order  # Non-seasonal (p, d, q)\n",
    "    best_seasonal_order = model_SARIMA.seasonal_order  # Seasonal (P, D, Q, m)\n",
    "\n",
    "    # Fit the SARIMAX model to the training data\n",
    "    SARIMA_model = SARIMAX(train_data(name), order=best_order, seasonal_order=best_seasonal_order, enforce_stationarity=False, enforce_invertibility=False)\n",
    "    SARIMA_fit = SARIMA_model.fit()\n",
    "\n",
    "    # Forecast values for the test data\n",
    "    y_pred_SARIMA = SARIMA_fit.forecast(steps=len(test_data(name)))\n",
    "\n",
    "    # Calculate evaluation metrics\n",
    "    mape_SARIMA = mean_absolute_percentage_error(test_data(name), y_pred_SARIMA)\n",
    "    \n",
    "    #Dự báo trong n ngày tới\n",
    "    history = pd.concat([train_data(name), test_data(name)], axis=0)\n",
    "\n",
    "    SARIMA_model = SARIMAX(history, order=best_order, seasonal_order=best_seasonal_order, enforce_stationarity=False, enforce_invertibility=False)\n",
    "    SARIMA_fit = SARIMA_model.fit()\n",
    "\n",
    "    Future_Price = SARIMA_fit.forecast(steps = number_days_predict)  # Dự báo 10 bước tiếp theo\n",
    "\n",
    "    lenth = len(history) + number_days_predict - 1\n",
    "    \n",
    "    return Future_Price[lenth], mape_SARIMA, y_pred_SARIMA"
   ]
  },
  {
   "cell_type": "code",
   "execution_count": null,
   "id": "75e90aa5",
   "metadata": {},
   "outputs": [],
   "source": [
    "# ###EXAMPLE\n",
    "# y_pred_SARIMA = []\n",
    "# Future_Price, mape_SARIMA, y_pred_SARIMA = model_SARIMA('ACB',7)\n",
    "# print(Future_Price)\n",
    "# print(mape_SARIMA)\n",
    "# print(y_pred_SARIMA)"
   ]
  },
  {
   "cell_type": "markdown",
   "id": "c9f9f70f",
   "metadata": {},
   "source": [
    "# 3. Prophet"
   ]
  },
  {
   "cell_type": "code",
   "execution_count": null,
   "id": "9c2f49fd",
   "metadata": {},
   "outputs": [],
   "source": [
    "!pip install prophet"
   ]
  },
  {
   "cell_type": "code",
   "execution_count": null,
   "id": "1b19b3bd",
   "metadata": {},
   "outputs": [],
   "source": [
    "from prophet import Prophet"
   ]
  },
  {
   "cell_type": "code",
   "execution_count": null,
   "id": "30e07171",
   "metadata": {},
   "outputs": [],
   "source": [
    "def model_Prophet(name, number_days_predict):\n",
    "    # Prepare data\n",
    "    data_prepare = all_stock_data[all_stock_data['ticker'] == name]\n",
    "    dfl = pd.DataFrame({\n",
    "        'ds': data_prepare['time'],  # Ensure these columns exist\n",
    "        'y': data_prepare['close']\n",
    "    })\n",
    "\n",
    "    # Train-Test Split\n",
    "    train = dfl[:int(len(dfl) * 0.8)]\n",
    "    test = dfl[int(len(dfl) * 0.8):]\n",
    "\n",
    "    # Fit Prophet Model\n",
    "    prophet_model = Prophet()\n",
    "    prophet_model.fit(train)\n",
    "\n",
    "    # Compute predictions on test data\n",
    "    future = prophet_model.make_future_dataframe(periods=len(test))\n",
    "    forecast = prophet_model.predict(future)\n",
    "    y_pred_Prophet = forecast['yhat'].iloc[-len(test):].values\n",
    "\n",
    "    # Compute MAPE\n",
    "    mape_Prophet = mean_absolute_percentage_error(test['y'].values, y_pred_Prophet)\n",
    "\n",
    "    # Predict future prices\n",
    "    future_dataframe = prophet_model.make_future_dataframe(periods=number_days_predict)\n",
    "    future_forecast = prophet_model.predict(future_dataframe)\n",
    "    Future_Price = future_forecast['yhat'].iloc[-number_days_predict:].values\n",
    "\n",
    "    return Future_Price[-1], mape_Prophet, y_pred_Prophet"
   ]
  },
  {
   "cell_type": "code",
   "execution_count": null,
   "id": "0bcd2979",
   "metadata": {},
   "outputs": [],
   "source": [
    "# ###EXAMPLE\n",
    "# y_pred_Prophet = []\n",
    "# Future_Price, mape_Prophet, y_pred_Prophet = model_Prophet('ACB', 7)\n",
    "# print(Future_Price)\n",
    "# print(mape_Prophet)\n",
    "# print(y_pred_Prophet)"
   ]
  },
  {
   "cell_type": "markdown",
   "id": "15f564b3",
   "metadata": {},
   "source": [
    "# 4. VAR (Vector Autoregression)"
   ]
  },
  {
   "cell_type": "markdown",
   "id": "8666150f",
   "metadata": {},
   "source": [
    "Lưu ý khi sử dụng VAR\n",
    "+ Kiểm tra tính ổn định: Sử dụng kiểm tra ADF (Augmented Dickey-Fuller) để đảm bảo dữ liệu là stationary.\n",
    "+ Chọn độ trễ tối ưu: Tiêu chí AIC, BIC, hoặc FPE.\n",
    "+ Diễn giải kết quả: VAR chỉ ra mối quan hệ giữa các biến, không đơn thuần chỉ là dự báo."
   ]
  },
  {
   "cell_type": "code",
   "execution_count": null,
   "id": "26ca2e1f",
   "metadata": {},
   "outputs": [],
   "source": [
    "from statsmodels.tsa.api import VAR"
   ]
  },
  {
   "cell_type": "code",
   "execution_count": null,
   "id": "c448d27c",
   "metadata": {},
   "outputs": [],
   "source": [
    "def model_VAR(name, number_days_predict):\n",
    "\n",
    "    # Huấn luyện mô hình VAR\n",
    "    model = VAR(train_data(name))\n",
    "    results = model.fit(ic='aic')  # Chọn độ trễ tối ưu bằng AIC\n",
    "\n",
    "    # Lấy dữ liệu cuối cùng làm điểm khởi động\n",
    "    last_data = train_data(name).values[-results.k_ar:]\n",
    "\n",
    "    # Dự báo n ngày tới\n",
    "    future_forecasts = []\n",
    "    for _ in range(number_days_predict):\n",
    "        # Dự báo ngày tiếp theo\n",
    "        next_forecast = results.forecast(last_data, steps=1)[0]\n",
    "        future_forecasts.append(next_forecast)\n",
    "\n",
    "        # Cập nhật dữ liệu đầu vào\n",
    "        last_data = np.vstack([last_data[1:], next_forecast])\n",
    "\n",
    "    # Kết quả dự báo\n",
    "    forecast_df = pd.DataFrame(future_forecasts, columns=train_data.columns)\n",
    "    return forecast_df.tolist(), mape, forecast_df.tolist()"
   ]
  },
  {
   "cell_type": "markdown",
   "id": "769f26cf",
   "metadata": {},
   "source": [
    "# 5.ETS"
   ]
  },
  {
   "cell_type": "code",
   "execution_count": null,
   "id": "9ef163a9",
   "metadata": {},
   "outputs": [],
   "source": [
    "from statsmodels.tsa.exponential_smoothing.ets import ETSModel"
   ]
  },
  {
   "cell_type": "code",
   "execution_count": null,
   "id": "2ebedd41",
   "metadata": {},
   "outputs": [],
   "source": [
    "def model_ETS(name, number_days_predict):\n",
    "    # Tạo và fit mô hình ETS\n",
    "    model = ETSModel(train_data(name), error='add', trend='add', seasonal='add', seasonal_periods=7)\n",
    "    model_ETS = model.fit()\n",
    "\n",
    "    # Dự đoán giá trị trong tương lai\n",
    "    y_pred_ETS = model_ETS.forecast(steps=len(test_data(name)))\n",
    "\n",
    "    mape_ETS = mean_absolute_percentage_error(test_data(name), y_pred_ETS)\n",
    "    \n",
    "    #Dự báo trong n ngày tới\n",
    "    history = pd.concat([train_data(name), test_data(name)], axis=0)\n",
    "\n",
    "    ETS_model = ETSModel(history, error='add', trend='add', seasonal='add', seasonal_periods=7)\n",
    "    ETS_fit = ETS_model.fit()\n",
    "\n",
    "    Future_Price = ETS_fit.forecast(steps = number_days_predict)  # Dự báo 10 bước tiếp theo\n",
    "    \n",
    "    lenth = len(history) + number_days_predict - 1\n",
    "    \n",
    "    return Future_Price[lenth], mape_ETS, y_pred_ETS\n"
   ]
  },
  {
   "cell_type": "code",
   "execution_count": null,
   "id": "73e2aec5",
   "metadata": {},
   "outputs": [],
   "source": [
    "# ###EXAMPLE\n",
    "# y_pred_ETS = []\n",
    "# Future_Price, mape_ETS, y_pred_ETS = model_ETS('ACB', 7)\n",
    "# print(\"Future_Prices:\", Future_Price)\n",
    "# print(\"mape_ETS:\", mape_ETS)\n",
    "# print(\"y_pred_ETS:\", y_pred_ETS)\n"
   ]
  },
  {
   "cell_type": "markdown",
   "id": "e0269573",
   "metadata": {},
   "source": [
    "# 6. TBATS"
   ]
  },
  {
   "cell_type": "code",
   "execution_count": null,
   "id": "230457c5",
   "metadata": {},
   "outputs": [],
   "source": [
    "pip install tbats"
   ]
  },
  {
   "cell_type": "code",
   "execution_count": null,
   "id": "78418f27",
   "metadata": {},
   "outputs": [],
   "source": [
    "from tbats import TBATS"
   ]
  },
  {
   "cell_type": "code",
   "execution_count": null,
   "id": "85b9feed",
   "metadata": {},
   "outputs": [],
   "source": [
    "def model_TBATS(name, number_days_predict):\n",
    "\n",
    "    # Fit TBATS Model\n",
    "    TBATS_model = TBATS(seasonal_periods=(7, 30.5))  # Define seasonal periods\n",
    "    TBATS_fit = TBATS_model.fit(train_data(name))  # Pass training data to fit method\n",
    "    \n",
    "    # Compute predictions on test data\n",
    "    y_pred_TBATS = TBATS_fit.forecast(steps=len(test_data(name)))\n",
    "    \n",
    "    # Compute MAPE\n",
    "    mape_TBATS = mean_absolute_percentage_error(test_data(name), y_pred_TBATS)\n",
    "    \n",
    "    # Predict future prices\n",
    "    Future_Price = TBATS_fit.forecast(steps=number_days_predict)\n",
    "    \n",
    "    return Future_Price[-1], mape_TBATS, y_pred_TBATS\n"
   ]
  },
  {
   "cell_type": "code",
   "execution_count": null,
   "id": "a11a324e",
   "metadata": {},
   "outputs": [],
   "source": [
    "# ###EXAMPLE\n",
    "# y_pred_TBATS = []\n",
    "# Future_Price, mape_TBATS, y_pred_TBATS = model_TBATS('ACB', 7)\n",
    "# print(Future_Price)\n",
    "# print(mape_TBATS)\n",
    "# print( y_pred_TBATS)"
   ]
  },
  {
   "cell_type": "code",
   "execution_count": null,
   "id": "0f0bc6bd",
   "metadata": {},
   "outputs": [],
   "source": []
  }
 ],
 "metadata": {
  "kernelspec": {
   "display_name": "Python 3 (ipykernel)",
   "language": "python",
   "name": "python3"
  },
  "language_info": {
   "codemirror_mode": {
    "name": "ipython",
    "version": 3
   },
   "file_extension": ".py",
   "mimetype": "text/x-python",
   "name": "python",
   "nbconvert_exporter": "python",
   "pygments_lexer": "ipython3",
   "version": "3.10.9"
  }
 },
 "nbformat": 4,
 "nbformat_minor": 5
}
